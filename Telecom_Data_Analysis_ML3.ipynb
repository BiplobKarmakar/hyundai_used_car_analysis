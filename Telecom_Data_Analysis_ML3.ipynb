{
  "nbformat": 4,
  "nbformat_minor": 0,
  "metadata": {
    "colab": {
      "name": "Telecom Data Analysis ML3.ipynb",
      "provenance": [],
      "authorship_tag": "ABX9TyPQcfYARyZwNaD21sYA4jK3",
      "include_colab_link": true
    },
    "kernelspec": {
      "name": "python3",
      "display_name": "Python 3"
    },
    "language_info": {
      "name": "python"
    }
  },
  "cells": [
    {
      "cell_type": "markdown",
      "metadata": {
        "id": "view-in-github",
        "colab_type": "text"
      },
      "source": [
        "<a href=\"https://colab.research.google.com/github/BiplobKarmakar/hyundai_used_car_analysis/blob/main/Telecom_Data_Analysis_ML3.ipynb\" target=\"_parent\"><img src=\"https://colab.research.google.com/assets/colab-badge.svg\" alt=\"Open In Colab\"/></a>"
      ]
    },
    {
      "cell_type": "markdown",
      "source": [
        "# Necessary Library"
      ],
      "metadata": {
        "id": "wGxJdNq0IsxX"
      }
    },
    {
      "cell_type": "code",
      "execution_count": 67,
      "metadata": {
        "id": "bv-mjHN6UBOK"
      },
      "outputs": [],
      "source": [
        "import pandas as pd\n",
        "\n",
        "import numpy as np \n",
        "from sklearn.preprocessing import StandardScaler\n",
        "from sklearn.preprocessing import MinMaxScaler\n",
        "from sklearn.linear_model import LogisticRegression\n",
        "from sklearn.tree import DecisionTreeClassifier\n",
        "from sklearn.tree import plot_tree\n",
        "from sklearn.metrics import plot_confusion_matrix\n",
        "from sklearn.model_selection import GridSearchCV\n",
        "\n",
        "from sklearn.metrics import accuracy_score, classification_report, confusion_matrix\n",
        "from sklearn.metrics import roc_curve, roc_auc_score, precision_score, recall_score, f1_score\n",
        "\n",
        "\n",
        "import matplotlib.pyplot as plt\n",
        "import seaborn as sns\n",
        "\n",
        "from sklearn.model_selection import train_test_split\n",
        "\n",
        "from sklearn.linear_model import LogisticRegression"
      ]
    },
    {
      "cell_type": "markdown",
      "source": [
        "#1. Load the dataset and perform data preprocessing"
      ],
      "metadata": {
        "id": "Fz8H9doxI1sX"
      }
    },
    {
      "cell_type": "code",
      "source": [
        "df = pd.read_csv(\"https://raw.githubusercontent.com/SKawsar/Machine_Learning_With_Python_Batch_2/main/Churn.csv\") \n",
        "\n"
      ],
      "metadata": {
        "id": "LI-ykkpHa1sw"
      },
      "execution_count": 15,
      "outputs": []
    },
    {
      "cell_type": "markdown",
      "source": [
        "#Checking Randomly ten rows"
      ],
      "metadata": {
        "id": "8V2oSjFiI9io"
      }
    },
    {
      "cell_type": "code",
      "source": [
        "pd.options.display.max_columns = df.shape[1]\n",
        "\n",
        "display(df.sample(10))\n",
        "print(df.shape)"
      ],
      "metadata": {
        "colab": {
          "base_uri": "https://localhost:8080/",
          "height": 618
        },
        "id": "QPS9YbJEbpk-",
        "outputId": "7350ad4b-9e33-4b48-97c1-f4ec3394d2c7"
      },
      "execution_count": 16,
      "outputs": [
        {
          "output_type": "display_data",
          "data": {
            "text/plain": [
              "      Account_Length  Vmail_Message  Day_Mins  Eve_Mins  Night_Mins  \\\n",
              "3213              93              0     152.1     215.5       262.4   \n",
              "1044              94              0     243.2     147.0        94.9   \n",
              "2341              40              0     109.4     244.7       276.9   \n",
              "867               86              0     141.3     154.3       210.6   \n",
              "2770              84             30     106.5     225.7       188.6   \n",
              "3263             130              0     132.4     200.3       202.5   \n",
              "73                90              0     203.4     226.7       152.4   \n",
              "1811             115              0     109.7     223.8       240.3   \n",
              "2860              81              0     173.2     236.2       240.2   \n",
              "1684             115              0      99.7     145.1       149.4   \n",
              "\n",
              "      Intl_Mins  CustServ_Calls Churn Intl_Plan Vmail_Plan  Day_Calls  \\\n",
              "3213       12.0               1    no        no         no        141   \n",
              "1044        7.2               4    no       yes         no        109   \n",
              "2341        7.1               0    no        no         no        107   \n",
              "867         8.2               1    no        no         no         72   \n",
              "2770        5.7               2    no        no        yes         65   \n",
              "3263        6.0               2    no        no         no         81   \n",
              "73          7.3               1    no        no         no        146   \n",
              "1811       15.4               3    no        no         no        148   \n",
              "2860       11.8               2    no        no         no         80   \n",
              "1684       14.1               2    no        no         no        107   \n",
              "\n",
              "      Day_Charge  Eve_Calls  Eve_Charge  Night_Calls  Night_Charge  \\\n",
              "3213       25.86        107       18.32          111         11.81   \n",
              "1044       41.34         88       12.50           99          4.27   \n",
              "2341       18.60        102       20.80          123         12.46   \n",
              "867        24.02         95       13.12           91          9.48   \n",
              "2770       18.11        108       19.18           61          8.49   \n",
              "3263       22.51        110       17.03          103          9.11   \n",
              "73         34.58        117       19.27          105          6.86   \n",
              "1811       18.65         87       19.02           96         10.81   \n",
              "2860       29.44         94       20.08           84         10.81   \n",
              "1684       16.95         96       12.33           99          6.72   \n",
              "\n",
              "      Intl_Calls  Intl_Charge State  Area_Code     Phone  \n",
              "3213           7         3.24    WI        415  392-6286  \n",
              "1044           4         1.94    NY        510  417-3046  \n",
              "2341           7         1.92    LA        510  367-9257  \n",
              "867            5         2.21    NV        510  353-7730  \n",
              "2770           3         1.54    NH        408  409-5749  \n",
              "3263           1         1.62    DC        510  330-4364  \n",
              "73             4         1.97    NV        415  399-4246  \n",
              "1811           8         4.16    NH        510  399-8859  \n",
              "2860           6         3.19    NM        415  402-9304  \n",
              "1684           4         3.81    KY        510  380-5102  "
            ],
            "text/html": [
              "\n",
              "  <div id=\"df-8e2c7464-a10a-449c-94f3-374da1f3e56c\">\n",
              "    <div class=\"colab-df-container\">\n",
              "      <div>\n",
              "<style scoped>\n",
              "    .dataframe tbody tr th:only-of-type {\n",
              "        vertical-align: middle;\n",
              "    }\n",
              "\n",
              "    .dataframe tbody tr th {\n",
              "        vertical-align: top;\n",
              "    }\n",
              "\n",
              "    .dataframe thead th {\n",
              "        text-align: right;\n",
              "    }\n",
              "</style>\n",
              "<table border=\"1\" class=\"dataframe\">\n",
              "  <thead>\n",
              "    <tr style=\"text-align: right;\">\n",
              "      <th></th>\n",
              "      <th>Account_Length</th>\n",
              "      <th>Vmail_Message</th>\n",
              "      <th>Day_Mins</th>\n",
              "      <th>Eve_Mins</th>\n",
              "      <th>Night_Mins</th>\n",
              "      <th>Intl_Mins</th>\n",
              "      <th>CustServ_Calls</th>\n",
              "      <th>Churn</th>\n",
              "      <th>Intl_Plan</th>\n",
              "      <th>Vmail_Plan</th>\n",
              "      <th>Day_Calls</th>\n",
              "      <th>Day_Charge</th>\n",
              "      <th>Eve_Calls</th>\n",
              "      <th>Eve_Charge</th>\n",
              "      <th>Night_Calls</th>\n",
              "      <th>Night_Charge</th>\n",
              "      <th>Intl_Calls</th>\n",
              "      <th>Intl_Charge</th>\n",
              "      <th>State</th>\n",
              "      <th>Area_Code</th>\n",
              "      <th>Phone</th>\n",
              "    </tr>\n",
              "  </thead>\n",
              "  <tbody>\n",
              "    <tr>\n",
              "      <th>3213</th>\n",
              "      <td>93</td>\n",
              "      <td>0</td>\n",
              "      <td>152.1</td>\n",
              "      <td>215.5</td>\n",
              "      <td>262.4</td>\n",
              "      <td>12.0</td>\n",
              "      <td>1</td>\n",
              "      <td>no</td>\n",
              "      <td>no</td>\n",
              "      <td>no</td>\n",
              "      <td>141</td>\n",
              "      <td>25.86</td>\n",
              "      <td>107</td>\n",
              "      <td>18.32</td>\n",
              "      <td>111</td>\n",
              "      <td>11.81</td>\n",
              "      <td>7</td>\n",
              "      <td>3.24</td>\n",
              "      <td>WI</td>\n",
              "      <td>415</td>\n",
              "      <td>392-6286</td>\n",
              "    </tr>\n",
              "    <tr>\n",
              "      <th>1044</th>\n",
              "      <td>94</td>\n",
              "      <td>0</td>\n",
              "      <td>243.2</td>\n",
              "      <td>147.0</td>\n",
              "      <td>94.9</td>\n",
              "      <td>7.2</td>\n",
              "      <td>4</td>\n",
              "      <td>no</td>\n",
              "      <td>yes</td>\n",
              "      <td>no</td>\n",
              "      <td>109</td>\n",
              "      <td>41.34</td>\n",
              "      <td>88</td>\n",
              "      <td>12.50</td>\n",
              "      <td>99</td>\n",
              "      <td>4.27</td>\n",
              "      <td>4</td>\n",
              "      <td>1.94</td>\n",
              "      <td>NY</td>\n",
              "      <td>510</td>\n",
              "      <td>417-3046</td>\n",
              "    </tr>\n",
              "    <tr>\n",
              "      <th>2341</th>\n",
              "      <td>40</td>\n",
              "      <td>0</td>\n",
              "      <td>109.4</td>\n",
              "      <td>244.7</td>\n",
              "      <td>276.9</td>\n",
              "      <td>7.1</td>\n",
              "      <td>0</td>\n",
              "      <td>no</td>\n",
              "      <td>no</td>\n",
              "      <td>no</td>\n",
              "      <td>107</td>\n",
              "      <td>18.60</td>\n",
              "      <td>102</td>\n",
              "      <td>20.80</td>\n",
              "      <td>123</td>\n",
              "      <td>12.46</td>\n",
              "      <td>7</td>\n",
              "      <td>1.92</td>\n",
              "      <td>LA</td>\n",
              "      <td>510</td>\n",
              "      <td>367-9257</td>\n",
              "    </tr>\n",
              "    <tr>\n",
              "      <th>867</th>\n",
              "      <td>86</td>\n",
              "      <td>0</td>\n",
              "      <td>141.3</td>\n",
              "      <td>154.3</td>\n",
              "      <td>210.6</td>\n",
              "      <td>8.2</td>\n",
              "      <td>1</td>\n",
              "      <td>no</td>\n",
              "      <td>no</td>\n",
              "      <td>no</td>\n",
              "      <td>72</td>\n",
              "      <td>24.02</td>\n",
              "      <td>95</td>\n",
              "      <td>13.12</td>\n",
              "      <td>91</td>\n",
              "      <td>9.48</td>\n",
              "      <td>5</td>\n",
              "      <td>2.21</td>\n",
              "      <td>NV</td>\n",
              "      <td>510</td>\n",
              "      <td>353-7730</td>\n",
              "    </tr>\n",
              "    <tr>\n",
              "      <th>2770</th>\n",
              "      <td>84</td>\n",
              "      <td>30</td>\n",
              "      <td>106.5</td>\n",
              "      <td>225.7</td>\n",
              "      <td>188.6</td>\n",
              "      <td>5.7</td>\n",
              "      <td>2</td>\n",
              "      <td>no</td>\n",
              "      <td>no</td>\n",
              "      <td>yes</td>\n",
              "      <td>65</td>\n",
              "      <td>18.11</td>\n",
              "      <td>108</td>\n",
              "      <td>19.18</td>\n",
              "      <td>61</td>\n",
              "      <td>8.49</td>\n",
              "      <td>3</td>\n",
              "      <td>1.54</td>\n",
              "      <td>NH</td>\n",
              "      <td>408</td>\n",
              "      <td>409-5749</td>\n",
              "    </tr>\n",
              "    <tr>\n",
              "      <th>3263</th>\n",
              "      <td>130</td>\n",
              "      <td>0</td>\n",
              "      <td>132.4</td>\n",
              "      <td>200.3</td>\n",
              "      <td>202.5</td>\n",
              "      <td>6.0</td>\n",
              "      <td>2</td>\n",
              "      <td>no</td>\n",
              "      <td>no</td>\n",
              "      <td>no</td>\n",
              "      <td>81</td>\n",
              "      <td>22.51</td>\n",
              "      <td>110</td>\n",
              "      <td>17.03</td>\n",
              "      <td>103</td>\n",
              "      <td>9.11</td>\n",
              "      <td>1</td>\n",
              "      <td>1.62</td>\n",
              "      <td>DC</td>\n",
              "      <td>510</td>\n",
              "      <td>330-4364</td>\n",
              "    </tr>\n",
              "    <tr>\n",
              "      <th>73</th>\n",
              "      <td>90</td>\n",
              "      <td>0</td>\n",
              "      <td>203.4</td>\n",
              "      <td>226.7</td>\n",
              "      <td>152.4</td>\n",
              "      <td>7.3</td>\n",
              "      <td>1</td>\n",
              "      <td>no</td>\n",
              "      <td>no</td>\n",
              "      <td>no</td>\n",
              "      <td>146</td>\n",
              "      <td>34.58</td>\n",
              "      <td>117</td>\n",
              "      <td>19.27</td>\n",
              "      <td>105</td>\n",
              "      <td>6.86</td>\n",
              "      <td>4</td>\n",
              "      <td>1.97</td>\n",
              "      <td>NV</td>\n",
              "      <td>415</td>\n",
              "      <td>399-4246</td>\n",
              "    </tr>\n",
              "    <tr>\n",
              "      <th>1811</th>\n",
              "      <td>115</td>\n",
              "      <td>0</td>\n",
              "      <td>109.7</td>\n",
              "      <td>223.8</td>\n",
              "      <td>240.3</td>\n",
              "      <td>15.4</td>\n",
              "      <td>3</td>\n",
              "      <td>no</td>\n",
              "      <td>no</td>\n",
              "      <td>no</td>\n",
              "      <td>148</td>\n",
              "      <td>18.65</td>\n",
              "      <td>87</td>\n",
              "      <td>19.02</td>\n",
              "      <td>96</td>\n",
              "      <td>10.81</td>\n",
              "      <td>8</td>\n",
              "      <td>4.16</td>\n",
              "      <td>NH</td>\n",
              "      <td>510</td>\n",
              "      <td>399-8859</td>\n",
              "    </tr>\n",
              "    <tr>\n",
              "      <th>2860</th>\n",
              "      <td>81</td>\n",
              "      <td>0</td>\n",
              "      <td>173.2</td>\n",
              "      <td>236.2</td>\n",
              "      <td>240.2</td>\n",
              "      <td>11.8</td>\n",
              "      <td>2</td>\n",
              "      <td>no</td>\n",
              "      <td>no</td>\n",
              "      <td>no</td>\n",
              "      <td>80</td>\n",
              "      <td>29.44</td>\n",
              "      <td>94</td>\n",
              "      <td>20.08</td>\n",
              "      <td>84</td>\n",
              "      <td>10.81</td>\n",
              "      <td>6</td>\n",
              "      <td>3.19</td>\n",
              "      <td>NM</td>\n",
              "      <td>415</td>\n",
              "      <td>402-9304</td>\n",
              "    </tr>\n",
              "    <tr>\n",
              "      <th>1684</th>\n",
              "      <td>115</td>\n",
              "      <td>0</td>\n",
              "      <td>99.7</td>\n",
              "      <td>145.1</td>\n",
              "      <td>149.4</td>\n",
              "      <td>14.1</td>\n",
              "      <td>2</td>\n",
              "      <td>no</td>\n",
              "      <td>no</td>\n",
              "      <td>no</td>\n",
              "      <td>107</td>\n",
              "      <td>16.95</td>\n",
              "      <td>96</td>\n",
              "      <td>12.33</td>\n",
              "      <td>99</td>\n",
              "      <td>6.72</td>\n",
              "      <td>4</td>\n",
              "      <td>3.81</td>\n",
              "      <td>KY</td>\n",
              "      <td>510</td>\n",
              "      <td>380-5102</td>\n",
              "    </tr>\n",
              "  </tbody>\n",
              "</table>\n",
              "</div>\n",
              "      <button class=\"colab-df-convert\" onclick=\"convertToInteractive('df-8e2c7464-a10a-449c-94f3-374da1f3e56c')\"\n",
              "              title=\"Convert this dataframe to an interactive table.\"\n",
              "              style=\"display:none;\">\n",
              "        \n",
              "  <svg xmlns=\"http://www.w3.org/2000/svg\" height=\"24px\"viewBox=\"0 0 24 24\"\n",
              "       width=\"24px\">\n",
              "    <path d=\"M0 0h24v24H0V0z\" fill=\"none\"/>\n",
              "    <path d=\"M18.56 5.44l.94 2.06.94-2.06 2.06-.94-2.06-.94-.94-2.06-.94 2.06-2.06.94zm-11 1L8.5 8.5l.94-2.06 2.06-.94-2.06-.94L8.5 2.5l-.94 2.06-2.06.94zm10 10l.94 2.06.94-2.06 2.06-.94-2.06-.94-.94-2.06-.94 2.06-2.06.94z\"/><path d=\"M17.41 7.96l-1.37-1.37c-.4-.4-.92-.59-1.43-.59-.52 0-1.04.2-1.43.59L10.3 9.45l-7.72 7.72c-.78.78-.78 2.05 0 2.83L4 21.41c.39.39.9.59 1.41.59.51 0 1.02-.2 1.41-.59l7.78-7.78 2.81-2.81c.8-.78.8-2.07 0-2.86zM5.41 20L4 18.59l7.72-7.72 1.47 1.35L5.41 20z\"/>\n",
              "  </svg>\n",
              "      </button>\n",
              "      \n",
              "  <style>\n",
              "    .colab-df-container {\n",
              "      display:flex;\n",
              "      flex-wrap:wrap;\n",
              "      gap: 12px;\n",
              "    }\n",
              "\n",
              "    .colab-df-convert {\n",
              "      background-color: #E8F0FE;\n",
              "      border: none;\n",
              "      border-radius: 50%;\n",
              "      cursor: pointer;\n",
              "      display: none;\n",
              "      fill: #1967D2;\n",
              "      height: 32px;\n",
              "      padding: 0 0 0 0;\n",
              "      width: 32px;\n",
              "    }\n",
              "\n",
              "    .colab-df-convert:hover {\n",
              "      background-color: #E2EBFA;\n",
              "      box-shadow: 0px 1px 2px rgba(60, 64, 67, 0.3), 0px 1px 3px 1px rgba(60, 64, 67, 0.15);\n",
              "      fill: #174EA6;\n",
              "    }\n",
              "\n",
              "    [theme=dark] .colab-df-convert {\n",
              "      background-color: #3B4455;\n",
              "      fill: #D2E3FC;\n",
              "    }\n",
              "\n",
              "    [theme=dark] .colab-df-convert:hover {\n",
              "      background-color: #434B5C;\n",
              "      box-shadow: 0px 1px 3px 1px rgba(0, 0, 0, 0.15);\n",
              "      filter: drop-shadow(0px 1px 2px rgba(0, 0, 0, 0.3));\n",
              "      fill: #FFFFFF;\n",
              "    }\n",
              "  </style>\n",
              "\n",
              "      <script>\n",
              "        const buttonEl =\n",
              "          document.querySelector('#df-8e2c7464-a10a-449c-94f3-374da1f3e56c button.colab-df-convert');\n",
              "        buttonEl.style.display =\n",
              "          google.colab.kernel.accessAllowed ? 'block' : 'none';\n",
              "\n",
              "        async function convertToInteractive(key) {\n",
              "          const element = document.querySelector('#df-8e2c7464-a10a-449c-94f3-374da1f3e56c');\n",
              "          const dataTable =\n",
              "            await google.colab.kernel.invokeFunction('convertToInteractive',\n",
              "                                                     [key], {});\n",
              "          if (!dataTable) return;\n",
              "\n",
              "          const docLinkHtml = 'Like what you see? Visit the ' +\n",
              "            '<a target=\"_blank\" href=https://colab.research.google.com/notebooks/data_table.ipynb>data table notebook</a>'\n",
              "            + ' to learn more about interactive tables.';\n",
              "          element.innerHTML = '';\n",
              "          dataTable['output_type'] = 'display_data';\n",
              "          await google.colab.output.renderOutput(dataTable, element);\n",
              "          const docLink = document.createElement('div');\n",
              "          docLink.innerHTML = docLinkHtml;\n",
              "          element.appendChild(docLink);\n",
              "        }\n",
              "      </script>\n",
              "    </div>\n",
              "  </div>\n",
              "  "
            ]
          },
          "metadata": {}
        },
        {
          "output_type": "stream",
          "name": "stdout",
          "text": [
            "(3333, 21)\n"
          ]
        }
      ]
    },
    {
      "cell_type": "markdown",
      "source": [
        "#Checking Columns  & data Types"
      ],
      "metadata": {
        "id": "kcjNYxmhJHCm"
      }
    },
    {
      "cell_type": "code",
      "source": [
        "df.info()"
      ],
      "metadata": {
        "colab": {
          "base_uri": "https://localhost:8080/"
        },
        "id": "gLpkVKpGb8J_",
        "outputId": "04791d94-7714-4827-b3b6-602911435a43"
      },
      "execution_count": 17,
      "outputs": [
        {
          "output_type": "stream",
          "name": "stdout",
          "text": [
            "<class 'pandas.core.frame.DataFrame'>\n",
            "RangeIndex: 3333 entries, 0 to 3332\n",
            "Data columns (total 21 columns):\n",
            " #   Column          Non-Null Count  Dtype  \n",
            "---  ------          --------------  -----  \n",
            " 0   Account_Length  3333 non-null   int64  \n",
            " 1   Vmail_Message   3333 non-null   int64  \n",
            " 2   Day_Mins        3333 non-null   float64\n",
            " 3   Eve_Mins        3333 non-null   float64\n",
            " 4   Night_Mins      3333 non-null   float64\n",
            " 5   Intl_Mins       3333 non-null   float64\n",
            " 6   CustServ_Calls  3333 non-null   int64  \n",
            " 7   Churn           3333 non-null   object \n",
            " 8   Intl_Plan       3333 non-null   object \n",
            " 9   Vmail_Plan      3333 non-null   object \n",
            " 10  Day_Calls       3333 non-null   int64  \n",
            " 11  Day_Charge      3333 non-null   float64\n",
            " 12  Eve_Calls       3333 non-null   int64  \n",
            " 13  Eve_Charge      3333 non-null   float64\n",
            " 14  Night_Calls     3333 non-null   int64  \n",
            " 15  Night_Charge    3333 non-null   float64\n",
            " 16  Intl_Calls      3333 non-null   int64  \n",
            " 17  Intl_Charge     3333 non-null   float64\n",
            " 18  State           3333 non-null   object \n",
            " 19  Area_Code       3333 non-null   int64  \n",
            " 20  Phone           3333 non-null   object \n",
            "dtypes: float64(8), int64(8), object(5)\n",
            "memory usage: 546.9+ KB\n"
          ]
        }
      ]
    },
    {
      "cell_type": "markdown",
      "source": [
        "#Drops Three Columns whose data types are other than numeric"
      ],
      "metadata": {
        "id": "iCHYrp7eJOaL"
      }
    },
    {
      "cell_type": "code",
      "source": [
        "df = df.drop([\"Area_Code\", \"Phone\", \"State\"], axis=1)\n",
        "\n",
        "print(df.shape)"
      ],
      "metadata": {
        "colab": {
          "base_uri": "https://localhost:8080/"
        },
        "id": "BlFh39PFchT3",
        "outputId": "e7c165c3-ce6d-4ca2-b9f0-4cbbac93912d"
      },
      "execution_count": 18,
      "outputs": [
        {
          "output_type": "stream",
          "name": "stdout",
          "text": [
            "(3333, 18)\n"
          ]
        }
      ]
    },
    {
      "cell_type": "code",
      "source": [
        "df[\"Churn\"].value_counts()\n"
      ],
      "metadata": {
        "colab": {
          "base_uri": "https://localhost:8080/"
        },
        "id": "iIdK-v85cmx9",
        "outputId": "7fd51aab-db3c-421b-c322-16dc8ae1d057"
      },
      "execution_count": 19,
      "outputs": [
        {
          "output_type": "execute_result",
          "data": {
            "text/plain": [
              "no     2850\n",
              "yes     483\n",
              "Name: Churn, dtype: int64"
            ]
          },
          "metadata": {},
          "execution_count": 19
        }
      ]
    },
    {
      "cell_type": "code",
      "source": [
        "df[\"Intl_Plan\"].value_counts()\n"
      ],
      "metadata": {
        "colab": {
          "base_uri": "https://localhost:8080/"
        },
        "id": "e3XTtBshc5rO",
        "outputId": "373fa30b-f4c5-406d-b8a2-277fad2305ef"
      },
      "execution_count": 20,
      "outputs": [
        {
          "output_type": "execute_result",
          "data": {
            "text/plain": [
              "no     3010\n",
              "yes     323\n",
              "Name: Intl_Plan, dtype: int64"
            ]
          },
          "metadata": {},
          "execution_count": 20
        }
      ]
    },
    {
      "cell_type": "code",
      "source": [
        "df[\"Vmail_Plan\"].value_counts()\n"
      ],
      "metadata": {
        "colab": {
          "base_uri": "https://localhost:8080/"
        },
        "id": "aNZoNKjlc_bm",
        "outputId": "554fb013-9b10-43ca-fb71-aa81859ee26c"
      },
      "execution_count": 21,
      "outputs": [
        {
          "output_type": "execute_result",
          "data": {
            "text/plain": [
              "no     2411\n",
              "yes     922\n",
              "Name: Vmail_Plan, dtype: int64"
            ]
          },
          "metadata": {},
          "execution_count": 21
        }
      ]
    },
    {
      "cell_type": "markdown",
      "source": [
        "#One-hot Encoding for three columns"
      ],
      "metadata": {
        "id": "4HBm22B8JeRZ"
      }
    },
    {
      "cell_type": "code",
      "source": [
        "df[\"Churn\"] = df[\"Churn\"].replace({\"no\":0, \"yes\": 1})\n",
        "df[\"Intl_Plan\"] = df[\"Intl_Plan\"].replace({\"no\":0, \"yes\": 1})\n",
        "df[\"Vmail_Plan\"] = df[\"Vmail_Plan\"].replace({\"no\":0, \"yes\": 1})\n"
      ],
      "metadata": {
        "id": "7vi96tM6dBVG"
      },
      "execution_count": 22,
      "outputs": []
    },
    {
      "cell_type": "code",
      "source": [
        "display(df.sample(10))\n"
      ],
      "metadata": {
        "colab": {
          "base_uri": "https://localhost:8080/",
          "height": 427
        },
        "id": "l0LzcP3BdLY7",
        "outputId": "d299d5d9-edca-4792-85ce-2e59efa65c7c"
      },
      "execution_count": 23,
      "outputs": [
        {
          "output_type": "display_data",
          "data": {
            "text/plain": [
              "      Account_Length  Vmail_Message  Day_Mins  Eve_Mins  Night_Mins  \\\n",
              "893              167              0     244.8      60.8       176.7   \n",
              "311              110             38     236.3     195.9       183.5   \n",
              "3065             122             29     195.4     268.2       168.0   \n",
              "905              161              0     191.9      70.9       204.8   \n",
              "2525              95              0     174.0     281.1       197.2   \n",
              "1239              64              0     168.0     192.4       166.5   \n",
              "523               61              0      45.0     151.3       152.9   \n",
              "1728             113             23     149.0     235.8       201.8   \n",
              "1483             107              0     234.1     163.1       282.5   \n",
              "3253             127             24     154.8     177.2       207.6   \n",
              "\n",
              "      Intl_Mins  CustServ_Calls  Churn  Intl_Plan  Vmail_Plan  Day_Calls  \\\n",
              "893        10.7               2      0          1           0         91   \n",
              "311         9.7               1      0          0           1        102   \n",
              "3065        8.4               3      0          0           1         83   \n",
              "905        13.4               4      1          0           0        113   \n",
              "2525        9.7               0      0          0           0         57   \n",
              "1239       10.1               2      0          0           0        116   \n",
              "523         9.8               2      0          0           0        108   \n",
              "1728        9.5               4      0          0           1        104   \n",
              "1483       10.0               1      0          1           0         91   \n",
              "3253        9.0               1      0          0           1         69   \n",
              "\n",
              "      Day_Charge  Eve_Calls  Eve_Charge  Night_Calls  Night_Charge  \\\n",
              "893        41.62        105        5.17          110          7.95   \n",
              "311        40.17        112       16.65           82          8.26   \n",
              "3065       33.22         93       22.80           95          7.56   \n",
              "905        32.62         87        6.03          107          9.22   \n",
              "2525       29.58        118       23.89           94          8.87   \n",
              "1239       28.56         94       16.35           98          7.49   \n",
              "523         7.65         74       12.86           94          6.88   \n",
              "1728       25.33         67       20.04           76          9.08   \n",
              "1483       39.80        105       13.86          100         12.71   \n",
              "3253       26.32        105       15.06          102          9.34   \n",
              "\n",
              "      Intl_Calls  Intl_Charge  \n",
              "893            3         2.89  \n",
              "311            6         2.62  \n",
              "3065           6         2.27  \n",
              "905            4         3.62  \n",
              "2525           2         2.62  \n",
              "1239           3         2.73  \n",
              "523            6         2.65  \n",
              "1728           5         2.57  \n",
              "1483           3         2.70  \n",
              "3253           4         2.43  "
            ],
            "text/html": [
              "\n",
              "  <div id=\"df-30875107-cd50-4324-8d88-a8b59fd0f449\">\n",
              "    <div class=\"colab-df-container\">\n",
              "      <div>\n",
              "<style scoped>\n",
              "    .dataframe tbody tr th:only-of-type {\n",
              "        vertical-align: middle;\n",
              "    }\n",
              "\n",
              "    .dataframe tbody tr th {\n",
              "        vertical-align: top;\n",
              "    }\n",
              "\n",
              "    .dataframe thead th {\n",
              "        text-align: right;\n",
              "    }\n",
              "</style>\n",
              "<table border=\"1\" class=\"dataframe\">\n",
              "  <thead>\n",
              "    <tr style=\"text-align: right;\">\n",
              "      <th></th>\n",
              "      <th>Account_Length</th>\n",
              "      <th>Vmail_Message</th>\n",
              "      <th>Day_Mins</th>\n",
              "      <th>Eve_Mins</th>\n",
              "      <th>Night_Mins</th>\n",
              "      <th>Intl_Mins</th>\n",
              "      <th>CustServ_Calls</th>\n",
              "      <th>Churn</th>\n",
              "      <th>Intl_Plan</th>\n",
              "      <th>Vmail_Plan</th>\n",
              "      <th>Day_Calls</th>\n",
              "      <th>Day_Charge</th>\n",
              "      <th>Eve_Calls</th>\n",
              "      <th>Eve_Charge</th>\n",
              "      <th>Night_Calls</th>\n",
              "      <th>Night_Charge</th>\n",
              "      <th>Intl_Calls</th>\n",
              "      <th>Intl_Charge</th>\n",
              "    </tr>\n",
              "  </thead>\n",
              "  <tbody>\n",
              "    <tr>\n",
              "      <th>893</th>\n",
              "      <td>167</td>\n",
              "      <td>0</td>\n",
              "      <td>244.8</td>\n",
              "      <td>60.8</td>\n",
              "      <td>176.7</td>\n",
              "      <td>10.7</td>\n",
              "      <td>2</td>\n",
              "      <td>0</td>\n",
              "      <td>1</td>\n",
              "      <td>0</td>\n",
              "      <td>91</td>\n",
              "      <td>41.62</td>\n",
              "      <td>105</td>\n",
              "      <td>5.17</td>\n",
              "      <td>110</td>\n",
              "      <td>7.95</td>\n",
              "      <td>3</td>\n",
              "      <td>2.89</td>\n",
              "    </tr>\n",
              "    <tr>\n",
              "      <th>311</th>\n",
              "      <td>110</td>\n",
              "      <td>38</td>\n",
              "      <td>236.3</td>\n",
              "      <td>195.9</td>\n",
              "      <td>183.5</td>\n",
              "      <td>9.7</td>\n",
              "      <td>1</td>\n",
              "      <td>0</td>\n",
              "      <td>0</td>\n",
              "      <td>1</td>\n",
              "      <td>102</td>\n",
              "      <td>40.17</td>\n",
              "      <td>112</td>\n",
              "      <td>16.65</td>\n",
              "      <td>82</td>\n",
              "      <td>8.26</td>\n",
              "      <td>6</td>\n",
              "      <td>2.62</td>\n",
              "    </tr>\n",
              "    <tr>\n",
              "      <th>3065</th>\n",
              "      <td>122</td>\n",
              "      <td>29</td>\n",
              "      <td>195.4</td>\n",
              "      <td>268.2</td>\n",
              "      <td>168.0</td>\n",
              "      <td>8.4</td>\n",
              "      <td>3</td>\n",
              "      <td>0</td>\n",
              "      <td>0</td>\n",
              "      <td>1</td>\n",
              "      <td>83</td>\n",
              "      <td>33.22</td>\n",
              "      <td>93</td>\n",
              "      <td>22.80</td>\n",
              "      <td>95</td>\n",
              "      <td>7.56</td>\n",
              "      <td>6</td>\n",
              "      <td>2.27</td>\n",
              "    </tr>\n",
              "    <tr>\n",
              "      <th>905</th>\n",
              "      <td>161</td>\n",
              "      <td>0</td>\n",
              "      <td>191.9</td>\n",
              "      <td>70.9</td>\n",
              "      <td>204.8</td>\n",
              "      <td>13.4</td>\n",
              "      <td>4</td>\n",
              "      <td>1</td>\n",
              "      <td>0</td>\n",
              "      <td>0</td>\n",
              "      <td>113</td>\n",
              "      <td>32.62</td>\n",
              "      <td>87</td>\n",
              "      <td>6.03</td>\n",
              "      <td>107</td>\n",
              "      <td>9.22</td>\n",
              "      <td>4</td>\n",
              "      <td>3.62</td>\n",
              "    </tr>\n",
              "    <tr>\n",
              "      <th>2525</th>\n",
              "      <td>95</td>\n",
              "      <td>0</td>\n",
              "      <td>174.0</td>\n",
              "      <td>281.1</td>\n",
              "      <td>197.2</td>\n",
              "      <td>9.7</td>\n",
              "      <td>0</td>\n",
              "      <td>0</td>\n",
              "      <td>0</td>\n",
              "      <td>0</td>\n",
              "      <td>57</td>\n",
              "      <td>29.58</td>\n",
              "      <td>118</td>\n",
              "      <td>23.89</td>\n",
              "      <td>94</td>\n",
              "      <td>8.87</td>\n",
              "      <td>2</td>\n",
              "      <td>2.62</td>\n",
              "    </tr>\n",
              "    <tr>\n",
              "      <th>1239</th>\n",
              "      <td>64</td>\n",
              "      <td>0</td>\n",
              "      <td>168.0</td>\n",
              "      <td>192.4</td>\n",
              "      <td>166.5</td>\n",
              "      <td>10.1</td>\n",
              "      <td>2</td>\n",
              "      <td>0</td>\n",
              "      <td>0</td>\n",
              "      <td>0</td>\n",
              "      <td>116</td>\n",
              "      <td>28.56</td>\n",
              "      <td>94</td>\n",
              "      <td>16.35</td>\n",
              "      <td>98</td>\n",
              "      <td>7.49</td>\n",
              "      <td>3</td>\n",
              "      <td>2.73</td>\n",
              "    </tr>\n",
              "    <tr>\n",
              "      <th>523</th>\n",
              "      <td>61</td>\n",
              "      <td>0</td>\n",
              "      <td>45.0</td>\n",
              "      <td>151.3</td>\n",
              "      <td>152.9</td>\n",
              "      <td>9.8</td>\n",
              "      <td>2</td>\n",
              "      <td>0</td>\n",
              "      <td>0</td>\n",
              "      <td>0</td>\n",
              "      <td>108</td>\n",
              "      <td>7.65</td>\n",
              "      <td>74</td>\n",
              "      <td>12.86</td>\n",
              "      <td>94</td>\n",
              "      <td>6.88</td>\n",
              "      <td>6</td>\n",
              "      <td>2.65</td>\n",
              "    </tr>\n",
              "    <tr>\n",
              "      <th>1728</th>\n",
              "      <td>113</td>\n",
              "      <td>23</td>\n",
              "      <td>149.0</td>\n",
              "      <td>235.8</td>\n",
              "      <td>201.8</td>\n",
              "      <td>9.5</td>\n",
              "      <td>4</td>\n",
              "      <td>0</td>\n",
              "      <td>0</td>\n",
              "      <td>1</td>\n",
              "      <td>104</td>\n",
              "      <td>25.33</td>\n",
              "      <td>67</td>\n",
              "      <td>20.04</td>\n",
              "      <td>76</td>\n",
              "      <td>9.08</td>\n",
              "      <td>5</td>\n",
              "      <td>2.57</td>\n",
              "    </tr>\n",
              "    <tr>\n",
              "      <th>1483</th>\n",
              "      <td>107</td>\n",
              "      <td>0</td>\n",
              "      <td>234.1</td>\n",
              "      <td>163.1</td>\n",
              "      <td>282.5</td>\n",
              "      <td>10.0</td>\n",
              "      <td>1</td>\n",
              "      <td>0</td>\n",
              "      <td>1</td>\n",
              "      <td>0</td>\n",
              "      <td>91</td>\n",
              "      <td>39.80</td>\n",
              "      <td>105</td>\n",
              "      <td>13.86</td>\n",
              "      <td>100</td>\n",
              "      <td>12.71</td>\n",
              "      <td>3</td>\n",
              "      <td>2.70</td>\n",
              "    </tr>\n",
              "    <tr>\n",
              "      <th>3253</th>\n",
              "      <td>127</td>\n",
              "      <td>24</td>\n",
              "      <td>154.8</td>\n",
              "      <td>177.2</td>\n",
              "      <td>207.6</td>\n",
              "      <td>9.0</td>\n",
              "      <td>1</td>\n",
              "      <td>0</td>\n",
              "      <td>0</td>\n",
              "      <td>1</td>\n",
              "      <td>69</td>\n",
              "      <td>26.32</td>\n",
              "      <td>105</td>\n",
              "      <td>15.06</td>\n",
              "      <td>102</td>\n",
              "      <td>9.34</td>\n",
              "      <td>4</td>\n",
              "      <td>2.43</td>\n",
              "    </tr>\n",
              "  </tbody>\n",
              "</table>\n",
              "</div>\n",
              "      <button class=\"colab-df-convert\" onclick=\"convertToInteractive('df-30875107-cd50-4324-8d88-a8b59fd0f449')\"\n",
              "              title=\"Convert this dataframe to an interactive table.\"\n",
              "              style=\"display:none;\">\n",
              "        \n",
              "  <svg xmlns=\"http://www.w3.org/2000/svg\" height=\"24px\"viewBox=\"0 0 24 24\"\n",
              "       width=\"24px\">\n",
              "    <path d=\"M0 0h24v24H0V0z\" fill=\"none\"/>\n",
              "    <path d=\"M18.56 5.44l.94 2.06.94-2.06 2.06-.94-2.06-.94-.94-2.06-.94 2.06-2.06.94zm-11 1L8.5 8.5l.94-2.06 2.06-.94-2.06-.94L8.5 2.5l-.94 2.06-2.06.94zm10 10l.94 2.06.94-2.06 2.06-.94-2.06-.94-.94-2.06-.94 2.06-2.06.94z\"/><path d=\"M17.41 7.96l-1.37-1.37c-.4-.4-.92-.59-1.43-.59-.52 0-1.04.2-1.43.59L10.3 9.45l-7.72 7.72c-.78.78-.78 2.05 0 2.83L4 21.41c.39.39.9.59 1.41.59.51 0 1.02-.2 1.41-.59l7.78-7.78 2.81-2.81c.8-.78.8-2.07 0-2.86zM5.41 20L4 18.59l7.72-7.72 1.47 1.35L5.41 20z\"/>\n",
              "  </svg>\n",
              "      </button>\n",
              "      \n",
              "  <style>\n",
              "    .colab-df-container {\n",
              "      display:flex;\n",
              "      flex-wrap:wrap;\n",
              "      gap: 12px;\n",
              "    }\n",
              "\n",
              "    .colab-df-convert {\n",
              "      background-color: #E8F0FE;\n",
              "      border: none;\n",
              "      border-radius: 50%;\n",
              "      cursor: pointer;\n",
              "      display: none;\n",
              "      fill: #1967D2;\n",
              "      height: 32px;\n",
              "      padding: 0 0 0 0;\n",
              "      width: 32px;\n",
              "    }\n",
              "\n",
              "    .colab-df-convert:hover {\n",
              "      background-color: #E2EBFA;\n",
              "      box-shadow: 0px 1px 2px rgba(60, 64, 67, 0.3), 0px 1px 3px 1px rgba(60, 64, 67, 0.15);\n",
              "      fill: #174EA6;\n",
              "    }\n",
              "\n",
              "    [theme=dark] .colab-df-convert {\n",
              "      background-color: #3B4455;\n",
              "      fill: #D2E3FC;\n",
              "    }\n",
              "\n",
              "    [theme=dark] .colab-df-convert:hover {\n",
              "      background-color: #434B5C;\n",
              "      box-shadow: 0px 1px 3px 1px rgba(0, 0, 0, 0.15);\n",
              "      filter: drop-shadow(0px 1px 2px rgba(0, 0, 0, 0.3));\n",
              "      fill: #FFFFFF;\n",
              "    }\n",
              "  </style>\n",
              "\n",
              "      <script>\n",
              "        const buttonEl =\n",
              "          document.querySelector('#df-30875107-cd50-4324-8d88-a8b59fd0f449 button.colab-df-convert');\n",
              "        buttonEl.style.display =\n",
              "          google.colab.kernel.accessAllowed ? 'block' : 'none';\n",
              "\n",
              "        async function convertToInteractive(key) {\n",
              "          const element = document.querySelector('#df-30875107-cd50-4324-8d88-a8b59fd0f449');\n",
              "          const dataTable =\n",
              "            await google.colab.kernel.invokeFunction('convertToInteractive',\n",
              "                                                     [key], {});\n",
              "          if (!dataTable) return;\n",
              "\n",
              "          const docLinkHtml = 'Like what you see? Visit the ' +\n",
              "            '<a target=\"_blank\" href=https://colab.research.google.com/notebooks/data_table.ipynb>data table notebook</a>'\n",
              "            + ' to learn more about interactive tables.';\n",
              "          element.innerHTML = '';\n",
              "          dataTable['output_type'] = 'display_data';\n",
              "          await google.colab.output.renderOutput(dataTable, element);\n",
              "          const docLink = document.createElement('div');\n",
              "          docLink.innerHTML = docLinkHtml;\n",
              "          element.appendChild(docLink);\n",
              "        }\n",
              "      </script>\n",
              "    </div>\n",
              "  </div>\n",
              "  "
            ]
          },
          "metadata": {}
        }
      ]
    },
    {
      "cell_type": "markdown",
      "source": [
        "# Q2. Which approach works better for this dataset? A. One-hot Encoding or B. Label Encoding"
      ],
      "metadata": {
        "id": "lxmppvuo7kN4"
      }
    },
    {
      "cell_type": "markdown",
      "source": [
        "# Ans. One-hot Encoding is better for this dataset"
      ],
      "metadata": {
        "id": "c3zDnSzJ7lxO"
      }
    },
    {
      "cell_type": "code",
      "source": [
        "df.info()\n"
      ],
      "metadata": {
        "colab": {
          "base_uri": "https://localhost:8080/"
        },
        "id": "VUU61ayDdT6q",
        "outputId": "34a829b0-229a-4f7d-aef1-5e225ab5250c"
      },
      "execution_count": 24,
      "outputs": [
        {
          "output_type": "stream",
          "name": "stdout",
          "text": [
            "<class 'pandas.core.frame.DataFrame'>\n",
            "RangeIndex: 3333 entries, 0 to 3332\n",
            "Data columns (total 18 columns):\n",
            " #   Column          Non-Null Count  Dtype  \n",
            "---  ------          --------------  -----  \n",
            " 0   Account_Length  3333 non-null   int64  \n",
            " 1   Vmail_Message   3333 non-null   int64  \n",
            " 2   Day_Mins        3333 non-null   float64\n",
            " 3   Eve_Mins        3333 non-null   float64\n",
            " 4   Night_Mins      3333 non-null   float64\n",
            " 5   Intl_Mins       3333 non-null   float64\n",
            " 6   CustServ_Calls  3333 non-null   int64  \n",
            " 7   Churn           3333 non-null   int64  \n",
            " 8   Intl_Plan       3333 non-null   int64  \n",
            " 9   Vmail_Plan      3333 non-null   int64  \n",
            " 10  Day_Calls       3333 non-null   int64  \n",
            " 11  Day_Charge      3333 non-null   float64\n",
            " 12  Eve_Calls       3333 non-null   int64  \n",
            " 13  Eve_Charge      3333 non-null   float64\n",
            " 14  Night_Calls     3333 non-null   int64  \n",
            " 15  Night_Charge    3333 non-null   float64\n",
            " 16  Intl_Calls      3333 non-null   int64  \n",
            " 17  Intl_Charge     3333 non-null   float64\n",
            "dtypes: float64(8), int64(10)\n",
            "memory usage: 468.8 KB\n"
          ]
        }
      ]
    },
    {
      "cell_type": "markdown",
      "source": [
        "#3. Perform Data Transformation (StandardScaler or MinMaxScaler). Does Data Transformation improve model performance? Is it necessary to standardize or normalize data for tree-based machine learning models?"
      ],
      "metadata": {
        "id": "h1-AFI_MKZtb"
      }
    },
    {
      "cell_type": "markdown",
      "source": [
        "#StandardScaler: \n",
        "StandardScaler is the industry's go-to algorithm.  StandardScaler standardizes a feature by subtracting the mean and then scaling to unit variance. Unit variance means dividing all the values by the standard deviation.\n",
        "\n",
        "\n"
      ],
      "metadata": {
        "id": "8uSlmRiX0n1r"
      }
    },
    {
      "cell_type": "code",
      "source": [
        "scaler = StandardScaler()\n",
        "# transform data\n",
        "scaled = scaler.fit_transform(df)\n",
        "display(scaled)"
      ],
      "metadata": {
        "colab": {
          "base_uri": "https://localhost:8080/",
          "height": 242
        },
        "id": "kR3Oftx40yFM",
        "outputId": "40fb1687-bf48-4d53-e229-418ab92d2a7f"
      },
      "execution_count": 28,
      "outputs": [
        {
          "output_type": "display_data",
          "data": {
            "text/plain": [
              "array([[ 0.67648946,  1.23488274,  1.56676695, ...,  0.86602851,\n",
              "        -0.60119509, -0.0856905 ],\n",
              "       [ 0.14906505,  1.30794844, -0.33373776, ...,  1.05938994,\n",
              "        -0.60119509,  1.2411686 ],\n",
              "       [ 0.9025285 , -0.59175986,  1.16830364, ..., -0.75557074,\n",
              "         0.21153386,  0.69715637],\n",
              "       ...,\n",
              "       [-1.83505538, -0.59175986,  0.01881963, ..., -0.17548645,\n",
              "         0.61789834,  1.3871231 ],\n",
              "       [ 2.08295458, -0.59175986,  0.62477766, ..., -1.22139599,\n",
              "         2.24335625, -1.87695028],\n",
              "       [-0.67974475,  1.23488274,  1.00304237, ...,  0.80010984,\n",
              "        -0.19483061,  1.2411686 ]])"
            ]
          },
          "metadata": {}
        }
      ]
    },
    {
      "cell_type": "code",
      "source": [
        "display(df.sample(10))"
      ],
      "metadata": {
        "colab": {
          "base_uri": "https://localhost:8080/",
          "height": 427
        },
        "id": "MfZXafpz3vYv",
        "outputId": "91686f0c-482a-4771-94da-34a29b8b5a13"
      },
      "execution_count": 29,
      "outputs": [
        {
          "output_type": "display_data",
          "data": {
            "text/plain": [
              "      Account_Length  Vmail_Message  Day_Mins  Eve_Mins  Night_Mins  \\\n",
              "775              106              0     169.4     197.2       202.2   \n",
              "866              119             27     220.1     268.2       146.5   \n",
              "2602              86              0     162.4     167.0       128.9   \n",
              "1556             106              0     178.4     247.0       259.9   \n",
              "419              115              0     184.1     327.0       212.5   \n",
              "288              167              0     207.6     132.4       255.2   \n",
              "1457             118              0     133.4     121.0       254.7   \n",
              "1644             124              0     184.8     175.1       158.2   \n",
              "1733             130              0     124.3     270.7       239.5   \n",
              "585              110              0      55.3     164.7       200.7   \n",
              "\n",
              "      Intl_Mins  CustServ_Calls  Churn  Intl_Plan  Vmail_Plan  Day_Calls  \\\n",
              "775        10.7               1      0          0           0        107   \n",
              "866        11.1               0      0          0           1        128   \n",
              "2602       11.4               2      1          1           0        131   \n",
              "1556        9.6               0      0          0           0        143   \n",
              "419         7.5               2      0          0           0         98   \n",
              "288        14.1               0      0          0           0         88   \n",
              "1457        5.9               1      0          0           0        113   \n",
              "1644       10.5               1      0          0           0         74   \n",
              "1733        3.5               0      0          0           0         70   \n",
              "585        10.2               1      0          0           0        102   \n",
              "\n",
              "      Day_Charge  Eve_Calls  Eve_Charge  Night_Calls  Night_Charge  \\\n",
              "775        28.80         71       16.76           79          9.10   \n",
              "866        37.42        133       22.80           80          6.59   \n",
              "2602       27.61        102       14.20          118          5.80   \n",
              "1556       30.33        123       21.00          105         11.70   \n",
              "419        31.30         73       27.80          106          9.56   \n",
              "288        35.29         63       11.25           98         11.48   \n",
              "1457       22.68         92       10.29          129         11.46   \n",
              "1644       31.42         84       14.88           95          7.12   \n",
              "1733       21.13         99       23.01           83         10.78   \n",
              "585         9.40        124       14.00          108          9.03   \n",
              "\n",
              "      Intl_Calls  Intl_Charge  \n",
              "775            4         2.89  \n",
              "866            3         3.00  \n",
              "2602           2         3.08  \n",
              "1556           2         2.59  \n",
              "419            6         2.03  \n",
              "288            5         3.81  \n",
              "1457           4         1.59  \n",
              "1644           6         2.84  \n",
              "1733           6         0.95  \n",
              "585            5         2.75  "
            ],
            "text/html": [
              "\n",
              "  <div id=\"df-18f31c22-0eea-4777-ac78-9defa14a6b0b\">\n",
              "    <div class=\"colab-df-container\">\n",
              "      <div>\n",
              "<style scoped>\n",
              "    .dataframe tbody tr th:only-of-type {\n",
              "        vertical-align: middle;\n",
              "    }\n",
              "\n",
              "    .dataframe tbody tr th {\n",
              "        vertical-align: top;\n",
              "    }\n",
              "\n",
              "    .dataframe thead th {\n",
              "        text-align: right;\n",
              "    }\n",
              "</style>\n",
              "<table border=\"1\" class=\"dataframe\">\n",
              "  <thead>\n",
              "    <tr style=\"text-align: right;\">\n",
              "      <th></th>\n",
              "      <th>Account_Length</th>\n",
              "      <th>Vmail_Message</th>\n",
              "      <th>Day_Mins</th>\n",
              "      <th>Eve_Mins</th>\n",
              "      <th>Night_Mins</th>\n",
              "      <th>Intl_Mins</th>\n",
              "      <th>CustServ_Calls</th>\n",
              "      <th>Churn</th>\n",
              "      <th>Intl_Plan</th>\n",
              "      <th>Vmail_Plan</th>\n",
              "      <th>Day_Calls</th>\n",
              "      <th>Day_Charge</th>\n",
              "      <th>Eve_Calls</th>\n",
              "      <th>Eve_Charge</th>\n",
              "      <th>Night_Calls</th>\n",
              "      <th>Night_Charge</th>\n",
              "      <th>Intl_Calls</th>\n",
              "      <th>Intl_Charge</th>\n",
              "    </tr>\n",
              "  </thead>\n",
              "  <tbody>\n",
              "    <tr>\n",
              "      <th>775</th>\n",
              "      <td>106</td>\n",
              "      <td>0</td>\n",
              "      <td>169.4</td>\n",
              "      <td>197.2</td>\n",
              "      <td>202.2</td>\n",
              "      <td>10.7</td>\n",
              "      <td>1</td>\n",
              "      <td>0</td>\n",
              "      <td>0</td>\n",
              "      <td>0</td>\n",
              "      <td>107</td>\n",
              "      <td>28.80</td>\n",
              "      <td>71</td>\n",
              "      <td>16.76</td>\n",
              "      <td>79</td>\n",
              "      <td>9.10</td>\n",
              "      <td>4</td>\n",
              "      <td>2.89</td>\n",
              "    </tr>\n",
              "    <tr>\n",
              "      <th>866</th>\n",
              "      <td>119</td>\n",
              "      <td>27</td>\n",
              "      <td>220.1</td>\n",
              "      <td>268.2</td>\n",
              "      <td>146.5</td>\n",
              "      <td>11.1</td>\n",
              "      <td>0</td>\n",
              "      <td>0</td>\n",
              "      <td>0</td>\n",
              "      <td>1</td>\n",
              "      <td>128</td>\n",
              "      <td>37.42</td>\n",
              "      <td>133</td>\n",
              "      <td>22.80</td>\n",
              "      <td>80</td>\n",
              "      <td>6.59</td>\n",
              "      <td>3</td>\n",
              "      <td>3.00</td>\n",
              "    </tr>\n",
              "    <tr>\n",
              "      <th>2602</th>\n",
              "      <td>86</td>\n",
              "      <td>0</td>\n",
              "      <td>162.4</td>\n",
              "      <td>167.0</td>\n",
              "      <td>128.9</td>\n",
              "      <td>11.4</td>\n",
              "      <td>2</td>\n",
              "      <td>1</td>\n",
              "      <td>1</td>\n",
              "      <td>0</td>\n",
              "      <td>131</td>\n",
              "      <td>27.61</td>\n",
              "      <td>102</td>\n",
              "      <td>14.20</td>\n",
              "      <td>118</td>\n",
              "      <td>5.80</td>\n",
              "      <td>2</td>\n",
              "      <td>3.08</td>\n",
              "    </tr>\n",
              "    <tr>\n",
              "      <th>1556</th>\n",
              "      <td>106</td>\n",
              "      <td>0</td>\n",
              "      <td>178.4</td>\n",
              "      <td>247.0</td>\n",
              "      <td>259.9</td>\n",
              "      <td>9.6</td>\n",
              "      <td>0</td>\n",
              "      <td>0</td>\n",
              "      <td>0</td>\n",
              "      <td>0</td>\n",
              "      <td>143</td>\n",
              "      <td>30.33</td>\n",
              "      <td>123</td>\n",
              "      <td>21.00</td>\n",
              "      <td>105</td>\n",
              "      <td>11.70</td>\n",
              "      <td>2</td>\n",
              "      <td>2.59</td>\n",
              "    </tr>\n",
              "    <tr>\n",
              "      <th>419</th>\n",
              "      <td>115</td>\n",
              "      <td>0</td>\n",
              "      <td>184.1</td>\n",
              "      <td>327.0</td>\n",
              "      <td>212.5</td>\n",
              "      <td>7.5</td>\n",
              "      <td>2</td>\n",
              "      <td>0</td>\n",
              "      <td>0</td>\n",
              "      <td>0</td>\n",
              "      <td>98</td>\n",
              "      <td>31.30</td>\n",
              "      <td>73</td>\n",
              "      <td>27.80</td>\n",
              "      <td>106</td>\n",
              "      <td>9.56</td>\n",
              "      <td>6</td>\n",
              "      <td>2.03</td>\n",
              "    </tr>\n",
              "    <tr>\n",
              "      <th>288</th>\n",
              "      <td>167</td>\n",
              "      <td>0</td>\n",
              "      <td>207.6</td>\n",
              "      <td>132.4</td>\n",
              "      <td>255.2</td>\n",
              "      <td>14.1</td>\n",
              "      <td>0</td>\n",
              "      <td>0</td>\n",
              "      <td>0</td>\n",
              "      <td>0</td>\n",
              "      <td>88</td>\n",
              "      <td>35.29</td>\n",
              "      <td>63</td>\n",
              "      <td>11.25</td>\n",
              "      <td>98</td>\n",
              "      <td>11.48</td>\n",
              "      <td>5</td>\n",
              "      <td>3.81</td>\n",
              "    </tr>\n",
              "    <tr>\n",
              "      <th>1457</th>\n",
              "      <td>118</td>\n",
              "      <td>0</td>\n",
              "      <td>133.4</td>\n",
              "      <td>121.0</td>\n",
              "      <td>254.7</td>\n",
              "      <td>5.9</td>\n",
              "      <td>1</td>\n",
              "      <td>0</td>\n",
              "      <td>0</td>\n",
              "      <td>0</td>\n",
              "      <td>113</td>\n",
              "      <td>22.68</td>\n",
              "      <td>92</td>\n",
              "      <td>10.29</td>\n",
              "      <td>129</td>\n",
              "      <td>11.46</td>\n",
              "      <td>4</td>\n",
              "      <td>1.59</td>\n",
              "    </tr>\n",
              "    <tr>\n",
              "      <th>1644</th>\n",
              "      <td>124</td>\n",
              "      <td>0</td>\n",
              "      <td>184.8</td>\n",
              "      <td>175.1</td>\n",
              "      <td>158.2</td>\n",
              "      <td>10.5</td>\n",
              "      <td>1</td>\n",
              "      <td>0</td>\n",
              "      <td>0</td>\n",
              "      <td>0</td>\n",
              "      <td>74</td>\n",
              "      <td>31.42</td>\n",
              "      <td>84</td>\n",
              "      <td>14.88</td>\n",
              "      <td>95</td>\n",
              "      <td>7.12</td>\n",
              "      <td>6</td>\n",
              "      <td>2.84</td>\n",
              "    </tr>\n",
              "    <tr>\n",
              "      <th>1733</th>\n",
              "      <td>130</td>\n",
              "      <td>0</td>\n",
              "      <td>124.3</td>\n",
              "      <td>270.7</td>\n",
              "      <td>239.5</td>\n",
              "      <td>3.5</td>\n",
              "      <td>0</td>\n",
              "      <td>0</td>\n",
              "      <td>0</td>\n",
              "      <td>0</td>\n",
              "      <td>70</td>\n",
              "      <td>21.13</td>\n",
              "      <td>99</td>\n",
              "      <td>23.01</td>\n",
              "      <td>83</td>\n",
              "      <td>10.78</td>\n",
              "      <td>6</td>\n",
              "      <td>0.95</td>\n",
              "    </tr>\n",
              "    <tr>\n",
              "      <th>585</th>\n",
              "      <td>110</td>\n",
              "      <td>0</td>\n",
              "      <td>55.3</td>\n",
              "      <td>164.7</td>\n",
              "      <td>200.7</td>\n",
              "      <td>10.2</td>\n",
              "      <td>1</td>\n",
              "      <td>0</td>\n",
              "      <td>0</td>\n",
              "      <td>0</td>\n",
              "      <td>102</td>\n",
              "      <td>9.40</td>\n",
              "      <td>124</td>\n",
              "      <td>14.00</td>\n",
              "      <td>108</td>\n",
              "      <td>9.03</td>\n",
              "      <td>5</td>\n",
              "      <td>2.75</td>\n",
              "    </tr>\n",
              "  </tbody>\n",
              "</table>\n",
              "</div>\n",
              "      <button class=\"colab-df-convert\" onclick=\"convertToInteractive('df-18f31c22-0eea-4777-ac78-9defa14a6b0b')\"\n",
              "              title=\"Convert this dataframe to an interactive table.\"\n",
              "              style=\"display:none;\">\n",
              "        \n",
              "  <svg xmlns=\"http://www.w3.org/2000/svg\" height=\"24px\"viewBox=\"0 0 24 24\"\n",
              "       width=\"24px\">\n",
              "    <path d=\"M0 0h24v24H0V0z\" fill=\"none\"/>\n",
              "    <path d=\"M18.56 5.44l.94 2.06.94-2.06 2.06-.94-2.06-.94-.94-2.06-.94 2.06-2.06.94zm-11 1L8.5 8.5l.94-2.06 2.06-.94-2.06-.94L8.5 2.5l-.94 2.06-2.06.94zm10 10l.94 2.06.94-2.06 2.06-.94-2.06-.94-.94-2.06-.94 2.06-2.06.94z\"/><path d=\"M17.41 7.96l-1.37-1.37c-.4-.4-.92-.59-1.43-.59-.52 0-1.04.2-1.43.59L10.3 9.45l-7.72 7.72c-.78.78-.78 2.05 0 2.83L4 21.41c.39.39.9.59 1.41.59.51 0 1.02-.2 1.41-.59l7.78-7.78 2.81-2.81c.8-.78.8-2.07 0-2.86zM5.41 20L4 18.59l7.72-7.72 1.47 1.35L5.41 20z\"/>\n",
              "  </svg>\n",
              "      </button>\n",
              "      \n",
              "  <style>\n",
              "    .colab-df-container {\n",
              "      display:flex;\n",
              "      flex-wrap:wrap;\n",
              "      gap: 12px;\n",
              "    }\n",
              "\n",
              "    .colab-df-convert {\n",
              "      background-color: #E8F0FE;\n",
              "      border: none;\n",
              "      border-radius: 50%;\n",
              "      cursor: pointer;\n",
              "      display: none;\n",
              "      fill: #1967D2;\n",
              "      height: 32px;\n",
              "      padding: 0 0 0 0;\n",
              "      width: 32px;\n",
              "    }\n",
              "\n",
              "    .colab-df-convert:hover {\n",
              "      background-color: #E2EBFA;\n",
              "      box-shadow: 0px 1px 2px rgba(60, 64, 67, 0.3), 0px 1px 3px 1px rgba(60, 64, 67, 0.15);\n",
              "      fill: #174EA6;\n",
              "    }\n",
              "\n",
              "    [theme=dark] .colab-df-convert {\n",
              "      background-color: #3B4455;\n",
              "      fill: #D2E3FC;\n",
              "    }\n",
              "\n",
              "    [theme=dark] .colab-df-convert:hover {\n",
              "      background-color: #434B5C;\n",
              "      box-shadow: 0px 1px 3px 1px rgba(0, 0, 0, 0.15);\n",
              "      filter: drop-shadow(0px 1px 2px rgba(0, 0, 0, 0.3));\n",
              "      fill: #FFFFFF;\n",
              "    }\n",
              "  </style>\n",
              "\n",
              "      <script>\n",
              "        const buttonEl =\n",
              "          document.querySelector('#df-18f31c22-0eea-4777-ac78-9defa14a6b0b button.colab-df-convert');\n",
              "        buttonEl.style.display =\n",
              "          google.colab.kernel.accessAllowed ? 'block' : 'none';\n",
              "\n",
              "        async function convertToInteractive(key) {\n",
              "          const element = document.querySelector('#df-18f31c22-0eea-4777-ac78-9defa14a6b0b');\n",
              "          const dataTable =\n",
              "            await google.colab.kernel.invokeFunction('convertToInteractive',\n",
              "                                                     [key], {});\n",
              "          if (!dataTable) return;\n",
              "\n",
              "          const docLinkHtml = 'Like what you see? Visit the ' +\n",
              "            '<a target=\"_blank\" href=https://colab.research.google.com/notebooks/data_table.ipynb>data table notebook</a>'\n",
              "            + ' to learn more about interactive tables.';\n",
              "          element.innerHTML = '';\n",
              "          dataTable['output_type'] = 'display_data';\n",
              "          await google.colab.output.renderOutput(dataTable, element);\n",
              "          const docLink = document.createElement('div');\n",
              "          docLink.innerHTML = docLinkHtml;\n",
              "          element.appendChild(docLink);\n",
              "        }\n",
              "      </script>\n",
              "    </div>\n",
              "  </div>\n",
              "  "
            ]
          },
          "metadata": {}
        }
      ]
    },
    {
      "cell_type": "markdown",
      "source": [
        "#MinMaxScaler:\n",
        " Min-max scaling is similar to z-score normalization in that it will replace every value in a column with a new value using a formula. In this case, that formula is:\n",
        "\n",
        "m = (x -xmin) / (xmax -xmin)\n",
        "\n",
        "Where:\n",
        "\n",
        "m is our new value\n",
        "x is the original cell value\n",
        "xmin is the minimum value of the column\n",
        "xmax is the maximum value of the column\n",
        "Using this formula, we will see that the values of each column will now be between zero and one. Let's take a look at an example using a built-in scikit-learn module:"
      ],
      "metadata": {
        "id": "Y0kOOM3KyLcS"
      }
    },
    {
      "cell_type": "code",
      "source": [
        "scaler = MinMaxScaler()\n",
        "# transform data\n",
        "scaled = scaler.fit_transform(df)\n",
        "print(scaled)"
      ],
      "metadata": {
        "colab": {
          "base_uri": "https://localhost:8080/"
        },
        "id": "I911pp9j5ers",
        "outputId": "5b41820b-c922-4bcd-f5dd-476ab15ea532"
      },
      "execution_count": 31,
      "outputs": [
        {
          "output_type": "stream",
          "name": "stdout",
          "text": [
            "[[0.52479339 0.49019608 0.75570125 ... 0.59593545 0.15       0.5       ]\n",
            " [0.43801653 0.50980392 0.46066135 ... 0.62223551 0.15       0.68518519]\n",
            " [0.56198347 0.         0.69384265 ... 0.37537358 0.25       0.60925926]\n",
            " ...\n",
            " [0.11157025 0.         0.51539339 ... 0.45427376 0.3        0.70555556]\n",
            " [0.75619835 0.         0.60946408 ... 0.31201435 0.5        0.25      ]\n",
            " [0.30165289 0.49019608 0.668187   ... 0.58696952 0.2        0.68518519]]\n"
          ]
        }
      ]
    },
    {
      "cell_type": "markdown",
      "source": [
        "#3b Does Data Transformation improve model performance? Is it necessary to standardize or normalize data for tree-based machine learning models?"
      ],
      "metadata": {
        "id": "akLb3oWeLvyo"
      }
    },
    {
      "cell_type": "markdown",
      "source": [
        "Ans: We have covered StandardScaler and  MinMaxScaler. Many machine learning models benefit from having features on similar scales. However, there is not a strict rule that defines what kind of transformation is optimal for a particular algoritm.\n",
        "\n",
        "Both MinMaxScaler and StandardScaler are sensitive to outliers. Thus, in case of outliers that we cannot remove, RobustScaler is a better choice than the other two.\n",
        "\n",
        "Without the presence of outliers, MinMaxScaler performs well in most cases. However, deep learning algorithms (e.g. neural networks) and regression algorithms are in favor of having features with normal distribution. StandardScaler is a better choice for such cases."
      ],
      "metadata": {
        "id": "RwKV4k4Y5p8T"
      }
    },
    {
      "cell_type": "markdown",
      "source": [
        "Tree based algorithms such as Decision Tree, Random forest and gradient boosting, are not sensitive to the magnitude of variables. So standardization or normalization is not needed before fitting this kind of models"
      ],
      "metadata": {
        "id": "lD_7M6_g7MMk"
      }
    },
    {
      "cell_type": "markdown",
      "source": [
        "#4 Perform Grid Search and Cross-Validation with Decision Tree Classifier ?"
      ],
      "metadata": {
        "id": "fj7XLiQy7_U1"
      }
    },
    {
      "cell_type": "code",
      "source": [
        "X = df.drop('Churn', axis=1)\n",
        "y = df[['Churn']]\n",
        "\n",
        "print(X.shape, y.shape)\n"
      ],
      "metadata": {
        "colab": {
          "base_uri": "https://localhost:8080/"
        },
        "id": "OufIh9IMdWV1",
        "outputId": "0f1f48bd-1edb-4a8c-a00b-92562efe12bb"
      },
      "execution_count": 32,
      "outputs": [
        {
          "output_type": "stream",
          "name": "stdout",
          "text": [
            "(3333, 17) (3333, 1)\n"
          ]
        }
      ]
    },
    {
      "cell_type": "markdown",
      "source": [
        "Train Test Separation"
      ],
      "metadata": {
        "id": "h37TLQvFEQQD"
      }
    },
    {
      "cell_type": "code",
      "source": [
        "X_train, X_test, y_train, y_test = train_test_split(X, \n",
        "                                                    y, \n",
        "                                                    test_size=0.3, \n",
        "                                                    random_state=42, \n",
        "                                                    stratify=y)\n",
        "\n",
        "print(X_train.shape, X_test.shape, y_train.shape, y_test.shape)\n"
      ],
      "metadata": {
        "colab": {
          "base_uri": "https://localhost:8080/"
        },
        "id": "Ixs9SOHf87fl",
        "outputId": "2403a84e-1854-4400-fa86-4b40e3d95f2b"
      },
      "execution_count": 33,
      "outputs": [
        {
          "output_type": "stream",
          "name": "stdout",
          "text": [
            "(2333, 17) (1000, 17) (2333, 1) (1000, 1)\n"
          ]
        }
      ]
    },
    {
      "cell_type": "code",
      "source": [
        "y_test[\"Churn\"].value_counts()"
      ],
      "metadata": {
        "colab": {
          "base_uri": "https://localhost:8080/"
        },
        "id": "utH_Ku-0Eehe",
        "outputId": "2c89ac32-8966-4b4d-bb8d-dce965709006"
      },
      "execution_count": 53,
      "outputs": [
        {
          "output_type": "execute_result",
          "data": {
            "text/plain": [
              "0    855\n",
              "1    145\n",
              "Name: Churn, dtype: int64"
            ]
          },
          "metadata": {},
          "execution_count": 53
        }
      ]
    },
    {
      "cell_type": "markdown",
      "source": [
        "Decision Tree classifier, no grid search\n"
      ],
      "metadata": {
        "id": "TeZJNUZa9wkx"
      }
    },
    {
      "cell_type": "code",
      "source": [
        "model_DT = DecisionTreeClassifier()\n",
        "# model_DT = LogisticRegression()\n",
        "model_DT = model_DT.fit(X_train, y_train)"
      ],
      "metadata": {
        "id": "dz_VOUh09SNd"
      },
      "execution_count": 36,
      "outputs": []
    },
    {
      "cell_type": "code",
      "source": [
        "parameters = {'criterion': ['gini','entropy'],\n",
        "              'max_depth': [3, 4, 5, 6, 7, None],\n",
        "              'max_features': [\"auto\"]}\n",
        "\n",
        "model = DecisionTreeClassifier(random_state=42)\n",
        "grid_search = GridSearchCV(estimator=model,\n",
        "                           param_grid=parameters,\n",
        "                           scoring=\"recall\",\n",
        "                           cv=5,\n",
        "                           n_jobs=-1)\n",
        "\n",
        "grid_result = grid_search.fit(X_train, y_train)"
      ],
      "metadata": {
        "id": "vHZt-G0SRZfC"
      },
      "execution_count": 72,
      "outputs": []
    },
    {
      "cell_type": "markdown",
      "source": [
        "# Model performance evaluation with the best found model in grid search and cross-validation\n"
      ],
      "metadata": {
        "id": "1UynG4uPS5Gm"
      }
    },
    {
      "cell_type": "code",
      "source": [
        "plot_confusion_matrix(model_DT,\n",
        "                      X_test,\n",
        "                      y_test[\"Churn\"],\n",
        "                      display_labels = [\"will not churn\", \"will churn\"],\n",
        "                      cmap = \"Blues\")\n",
        "\n",
        "plt.show()"
      ],
      "metadata": {
        "colab": {
          "base_uri": "https://localhost:8080/",
          "height": 334
        },
        "id": "bB3dDPoeS7d2",
        "outputId": "2bd8f9ba-fb22-45fb-b5ce-41c02489d9a3"
      },
      "execution_count": 73,
      "outputs": [
        {
          "output_type": "stream",
          "name": "stderr",
          "text": [
            "/usr/local/lib/python3.7/dist-packages/sklearn/utils/deprecation.py:87: FutureWarning: Function plot_confusion_matrix is deprecated; Function `plot_confusion_matrix` is deprecated in 1.0 and will be removed in 1.2. Use one of the class methods: ConfusionMatrixDisplay.from_predictions or ConfusionMatrixDisplay.from_estimator.\n",
            "  warnings.warn(msg, category=FutureWarning)\n"
          ]
        },
        {
          "output_type": "display_data",
          "data": {
            "text/plain": [
              "<Figure size 432x288 with 2 Axes>"
            ],
            "image/png": "[encoded data removed]"
          },
          "metadata": {
            "needs_background": "light"
          }
        }
      ]
    },
    {
      "cell_type": "markdown",
      "source": [
        "# 5 Show a tree diagram of the Decision Tree"
      ],
      "metadata": {
        "id": "iCKAHHHNMrPv"
      }
    },
    {
      "cell_type": "code",
      "source": [
        " plt.figure(figsize = (15, 15))\n",
        " plot_tree(model_DT, \n",
        "          filled=True,\n",
        "          rounded=True,\n",
        "          class_names = [\"Not Churn\", \"Churn\"],\n",
        "          feature_names = X.columns,\n",
        "           max_depth=2, \n",
        "          fontsize=15)\n",
        "\n",
        " plt.show()"
      ],
      "metadata": {
        "colab": {
          "base_uri": "https://localhost:8080/",
          "height": 846
        },
        "id": "Afhj79HtMr3u",
        "outputId": "1601a92c-c8a2-49bb-845f-ff9cb21bcbe5"
      },
      "execution_count": 69,
      "outputs": [
        {
          "output_type": "display_data",
          "data": {
            "text/plain": [
              "<Figure size 1080x1080 with 1 Axes>"
            ],
            "image/png": "[encoded data removed]"
          },
          "metadata": {
            "needs_background": "light"
          }
        }
      ]
    },
    {
      "cell_type": "markdown",
      "source": [
        "Training"
      ],
      "metadata": {
        "id": "syTxWnjXExPT"
      }
    },
    {
      "cell_type": "code",
      "source": [
        "y_pred = model_DT.predict(X_test)"
      ],
      "metadata": {
        "id": "CqKMedRGEvqY"
      },
      "execution_count": 55,
      "outputs": []
    },
    {
      "cell_type": "markdown",
      "source": [
        "Prediction Comparison with the test data"
      ],
      "metadata": {
        "id": "gwk4WYudE8lV"
      }
    },
    {
      "cell_type": "code",
      "source": [
        "y_test[\"Churn_probability\"] = np.round(model_DT.predict_proba(X_test)[:,1], 2)\n",
        "y_test[\"Churn_predicted\"] = y_pred\n",
        "\n",
        "display(y_test.head())\n"
      ],
      "metadata": {
        "colab": {
          "base_uri": "https://localhost:8080/",
          "height": 206
        },
        "id": "YspNqxqiD6WN",
        "outputId": "5a044e78-2f8a-42b8-84ea-33546aa4571d"
      },
      "execution_count": 57,
      "outputs": [
        {
          "output_type": "display_data",
          "data": {
            "text/plain": [
              "      Churn  Churn_probability  Churn_predicted\n",
              "68        0                0.0                0\n",
              "1653      1                1.0                1\n",
              "1716      0                0.0                0\n",
              "3251      0                0.0                0\n",
              "2406      0                0.0                0"
            ],
            "text/html": [
              "\n",
              "  <div id=\"df-cd0c86ed-74cf-453d-b37e-aefeb1e1c715\">\n",
              "    <div class=\"colab-df-container\">\n",
              "      <div>\n",
              "<style scoped>\n",
              "    .dataframe tbody tr th:only-of-type {\n",
              "        vertical-align: middle;\n",
              "    }\n",
              "\n",
              "    .dataframe tbody tr th {\n",
              "        vertical-align: top;\n",
              "    }\n",
              "\n",
              "    .dataframe thead th {\n",
              "        text-align: right;\n",
              "    }\n",
              "</style>\n",
              "<table border=\"1\" class=\"dataframe\">\n",
              "  <thead>\n",
              "    <tr style=\"text-align: right;\">\n",
              "      <th></th>\n",
              "      <th>Churn</th>\n",
              "      <th>Churn_probability</th>\n",
              "      <th>Churn_predicted</th>\n",
              "    </tr>\n",
              "  </thead>\n",
              "  <tbody>\n",
              "    <tr>\n",
              "      <th>68</th>\n",
              "      <td>0</td>\n",
              "      <td>0.0</td>\n",
              "      <td>0</td>\n",
              "    </tr>\n",
              "    <tr>\n",
              "      <th>1653</th>\n",
              "      <td>1</td>\n",
              "      <td>1.0</td>\n",
              "      <td>1</td>\n",
              "    </tr>\n",
              "    <tr>\n",
              "      <th>1716</th>\n",
              "      <td>0</td>\n",
              "      <td>0.0</td>\n",
              "      <td>0</td>\n",
              "    </tr>\n",
              "    <tr>\n",
              "      <th>3251</th>\n",
              "      <td>0</td>\n",
              "      <td>0.0</td>\n",
              "      <td>0</td>\n",
              "    </tr>\n",
              "    <tr>\n",
              "      <th>2406</th>\n",
              "      <td>0</td>\n",
              "      <td>0.0</td>\n",
              "      <td>0</td>\n",
              "    </tr>\n",
              "  </tbody>\n",
              "</table>\n",
              "</div>\n",
              "      <button class=\"colab-df-convert\" onclick=\"convertToInteractive('df-cd0c86ed-74cf-453d-b37e-aefeb1e1c715')\"\n",
              "              title=\"Convert this dataframe to an interactive table.\"\n",
              "              style=\"display:none;\">\n",
              "        \n",
              "  <svg xmlns=\"http://www.w3.org/2000/svg\" height=\"24px\"viewBox=\"0 0 24 24\"\n",
              "       width=\"24px\">\n",
              "    <path d=\"M0 0h24v24H0V0z\" fill=\"none\"/>\n",
              "    <path d=\"M18.56 5.44l.94 2.06.94-2.06 2.06-.94-2.06-.94-.94-2.06-.94 2.06-2.06.94zm-11 1L8.5 8.5l.94-2.06 2.06-.94-2.06-.94L8.5 2.5l-.94 2.06-2.06.94zm10 10l.94 2.06.94-2.06 2.06-.94-2.06-.94-.94-2.06-.94 2.06-2.06.94z\"/><path d=\"M17.41 7.96l-1.37-1.37c-.4-.4-.92-.59-1.43-.59-.52 0-1.04.2-1.43.59L10.3 9.45l-7.72 7.72c-.78.78-.78 2.05 0 2.83L4 21.41c.39.39.9.59 1.41.59.51 0 1.02-.2 1.41-.59l7.78-7.78 2.81-2.81c.8-.78.8-2.07 0-2.86zM5.41 20L4 18.59l7.72-7.72 1.47 1.35L5.41 20z\"/>\n",
              "  </svg>\n",
              "      </button>\n",
              "      \n",
              "  <style>\n",
              "    .colab-df-container {\n",
              "      display:flex;\n",
              "      flex-wrap:wrap;\n",
              "      gap: 12px;\n",
              "    }\n",
              "\n",
              "    .colab-df-convert {\n",
              "      background-color: #E8F0FE;\n",
              "      border: none;\n",
              "      border-radius: 50%;\n",
              "      cursor: pointer;\n",
              "      display: none;\n",
              "      fill: #1967D2;\n",
              "      height: 32px;\n",
              "      padding: 0 0 0 0;\n",
              "      width: 32px;\n",
              "    }\n",
              "\n",
              "    .colab-df-convert:hover {\n",
              "      background-color: #E2EBFA;\n",
              "      box-shadow: 0px 1px 2px rgba(60, 64, 67, 0.3), 0px 1px 3px 1px rgba(60, 64, 67, 0.15);\n",
              "      fill: #174EA6;\n",
              "    }\n",
              "\n",
              "    [theme=dark] .colab-df-convert {\n",
              "      background-color: #3B4455;\n",
              "      fill: #D2E3FC;\n",
              "    }\n",
              "\n",
              "    [theme=dark] .colab-df-convert:hover {\n",
              "      background-color: #434B5C;\n",
              "      box-shadow: 0px 1px 3px 1px rgba(0, 0, 0, 0.15);\n",
              "      filter: drop-shadow(0px 1px 2px rgba(0, 0, 0, 0.3));\n",
              "      fill: #FFFFFF;\n",
              "    }\n",
              "  </style>\n",
              "\n",
              "      <script>\n",
              "        const buttonEl =\n",
              "          document.querySelector('#df-cd0c86ed-74cf-453d-b37e-aefeb1e1c715 button.colab-df-convert');\n",
              "        buttonEl.style.display =\n",
              "          google.colab.kernel.accessAllowed ? 'block' : 'none';\n",
              "\n",
              "        async function convertToInteractive(key) {\n",
              "          const element = document.querySelector('#df-cd0c86ed-74cf-453d-b37e-aefeb1e1c715');\n",
              "          const dataTable =\n",
              "            await google.colab.kernel.invokeFunction('convertToInteractive',\n",
              "                                                     [key], {});\n",
              "          if (!dataTable) return;\n",
              "\n",
              "          const docLinkHtml = 'Like what you see? Visit the ' +\n",
              "            '<a target=\"_blank\" href=https://colab.research.google.com/notebooks/data_table.ipynb>data table notebook</a>'\n",
              "            + ' to learn more about interactive tables.';\n",
              "          element.innerHTML = '';\n",
              "          dataTable['output_type'] = 'display_data';\n",
              "          await google.colab.output.renderOutput(dataTable, element);\n",
              "          const docLink = document.createElement('div');\n",
              "          docLink.innerHTML = docLinkHtml;\n",
              "          element.appendChild(docLink);\n",
              "        }\n",
              "      </script>\n",
              "    </div>\n",
              "  </div>\n",
              "  "
            ]
          },
          "metadata": {}
        }
      ]
    },
    {
      "cell_type": "markdown",
      "source": [
        "#6 Show the Confusion Matrix, Classification report, and ROC-AUC"
      ],
      "metadata": {
        "id": "AQGGVN0-SWFW"
      }
    },
    {
      "cell_type": "code",
      "source": [
        "confusion_matrix_ = confusion_matrix(y_test[\"Churn\"],\n",
        "                                     y_test[\"Churn_predicted\"])\n",
        "\n",
        "print(confusion_matrix_)"
      ],
      "metadata": {
        "colab": {
          "base_uri": "https://localhost:8080/"
        },
        "id": "mRLg3e1cDWj4",
        "outputId": "69a1b24c-c4cc-4671-f446-0c9a16fa928d"
      },
      "execution_count": 62,
      "outputs": [
        {
          "output_type": "stream",
          "name": "stdout",
          "text": [
            "[[814  41]\n",
            " [ 45 100]]\n"
          ]
        }
      ]
    },
    {
      "cell_type": "code",
      "source": [
        "y_pred_DT = model_DT.predict(X_test)"
      ],
      "metadata": {
        "id": "9vedZq-A-brF"
      },
      "execution_count": 39,
      "outputs": []
    },
    {
      "cell_type": "code",
      "source": [
        "print('Accuracy: ', accuracy_score(y_test, y_pred_DT))\n",
        "\n",
        "print(classification_report(y_test, y_pred_DT))\n",
        "\n",
        "fpr, tpr, thr = roc_curve(y_test, model_DT.predict_proba(X_test)[:,1])\n",
        "auc = roc_auc_score(y_test, y_pred_DT)\n",
        "plt.figure(figsize=(10, 8))\n",
        "plt.plot(fpr, tpr, color='green', lw=2, label=\"Curve Area = %0.3f\" % auc)\n",
        "plt.plot([0, 1], [0, 1], color='blue', lw=2, linestyle='--')\n",
        "plt.xlabel('False Positive Rate (FPR)')\n",
        "plt.ylabel('True Positive Rate (TPR)')\n",
        "plt.title('ROC curve')\n",
        "plt.legend(loc=\"lower right\")\n",
        "plt.show()"
      ],
      "metadata": {
        "colab": {
          "base_uri": "https://localhost:8080/",
          "height": 686
        },
        "id": "JUQZc3OM_cjH",
        "outputId": "f5a723ec-4a59-4cbc-ef0d-e340f331ad33"
      },
      "execution_count": 40,
      "outputs": [
        {
          "output_type": "stream",
          "name": "stdout",
          "text": [
            "Accuracy:  0.914\n",
            "              precision    recall  f1-score   support\n",
            "\n",
            "           0       0.95      0.95      0.95       855\n",
            "           1       0.71      0.69      0.70       145\n",
            "\n",
            "    accuracy                           0.91      1000\n",
            "   macro avg       0.83      0.82      0.82      1000\n",
            "weighted avg       0.91      0.91      0.91      1000\n",
            "\n"
          ]
        },
        {
          "output_type": "display_data",
          "data": {
            "text/plain": [
              "<Figure size 720x576 with 1 Axes>"
            ],
            "image/png": "[encoded data removed]"
          },
          "metadata": {
            "needs_background": "light"
          }
        }
      ]
    },
    {
      "cell_type": "markdown",
      "source": [
        "# Classification report "
      ],
      "metadata": {
        "id": "6437tLi7OxFn"
      }
    },
    {
      "cell_type": "code",
      "source": [
        "classification_report_ = classification_report(y_test[\"Churn\"],\n",
        "                                               y_test[\"Churn_predicted\"])\n",
        "print(classification_report_)"
      ],
      "metadata": {
        "colab": {
          "base_uri": "https://localhost:8080/"
        },
        "id": "XZ56O8zdOjed",
        "outputId": "2a03c239-1389-4dcc-e5dc-91b034fefaf8"
      },
      "execution_count": 70,
      "outputs": [
        {
          "output_type": "stream",
          "name": "stdout",
          "text": [
            "              precision    recall  f1-score   support\n",
            "\n",
            "           0       0.95      0.95      0.95       855\n",
            "           1       0.71      0.69      0.70       145\n",
            "\n",
            "    accuracy                           0.91      1000\n",
            "   macro avg       0.83      0.82      0.82      1000\n",
            "weighted avg       0.91      0.91      0.91      1000\n",
            "\n"
          ]
        }
      ]
    },
    {
      "cell_type": "markdown",
      "source": [
        "# 7 Explain accuracy, precision, recall, f1 score"
      ],
      "metadata": {
        "id": "26GN6OdxG881"
      }
    },
    {
      "cell_type": "code",
      "source": [
        "TN = confusion_matrix_[0,0]\n",
        "print(\"True Negatives = \", TN)\n",
        "\n",
        "FN = confusion_matrix_[1,0]\n",
        "print(\"False Negatives = \", FN)\n",
        "\n",
        "FP = confusion_matrix_[0,1]\n",
        "print(\"False Positives = \", FP)\n",
        "\n",
        "TP = confusion_matrix_[1,1]\n",
        "print(\"True Positives = \", TP)"
      ],
      "metadata": {
        "colab": {
          "base_uri": "https://localhost:8080/"
        },
        "id": "mhUJwK91HOLw",
        "outputId": "90746ded-d89f-4b54-cdfd-b42ccd3ef08b"
      },
      "execution_count": 63,
      "outputs": [
        {
          "output_type": "stream",
          "name": "stdout",
          "text": [
            "True Negatives =  814\n",
            "False Negatives =  45\n",
            "False Positives =  41\n",
            "True Positives =  100\n"
          ]
        }
      ]
    },
    {
      "cell_type": "code",
      "source": [
        "accuracy = (TN+TP)/(TN+TP+FP+FN)\n",
        "print(accuracy)\n"
      ],
      "metadata": {
        "colab": {
          "base_uri": "https://localhost:8080/"
        },
        "id": "c5PxBmTlHpot",
        "outputId": "2d678aee-81d2-4905-ae19-5d1bff6aebd6"
      },
      "execution_count": 64,
      "outputs": [
        {
          "output_type": "stream",
          "name": "stdout",
          "text": [
            "0.914\n"
          ]
        }
      ]
    },
    {
      "cell_type": "code",
      "source": [
        "print(\"Calculated __________________________\")\n",
        "precision = np.round(TP/(TP+FP), 2) #predicted class 1\n",
        "recall = np.round(TP/(TP+FN), 2) #actual class 1\n",
        "f1_score_ = np.round((2*precision*recall)/(precision+recall), 2)\n",
        "\n",
        "print(\"Precision = \", precision)\n",
        "print(\"Recall = \", recall)\n",
        "print(\"f1_score = \", f1_score_)\n",
        "\n",
        "print(\"\\nScikit-Learn ________________________\")\n",
        "precision_ = np.round(precision_score(y_test['Churn'], \n",
        "                                      y_test['Churn_predicted']), 2)\n",
        "recall_ = np.round(recall_score(y_test['Churn'], \n",
        "                                y_test['Churn_predicted']), 2)\n",
        "\n",
        "f1_score__ = np.round(f1_score(y_test['Churn'], \n",
        "                               y_test['Churn_predicted']), 2)\n",
        "\n",
        "print(\"Precision = \", precision_)\n",
        "print(\"Recall = \", recall_)\n",
        "print(\"f1_score = \", f1_score__)\n"
      ],
      "metadata": {
        "colab": {
          "base_uri": "https://localhost:8080/"
        },
        "id": "tU76jBj2H4BH",
        "outputId": "7cc9fc34-d0ba-4f77-de7b-215a967c2ef6"
      },
      "execution_count": 65,
      "outputs": [
        {
          "output_type": "stream",
          "name": "stdout",
          "text": [
            "Calculated __________________________\n",
            "Precision =  0.71\n",
            "Recall =  0.69\n",
            "f1_score =  0.7\n",
            "\n",
            "Scikit-Learn ________________________\n",
            "Precision =  0.71\n",
            "Recall =  0.69\n",
            "f1_score =  0.7\n"
          ]
        }
      ]
    }
  ]
}